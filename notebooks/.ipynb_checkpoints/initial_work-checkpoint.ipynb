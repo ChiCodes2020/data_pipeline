{
 "cells": [
  {
   "cell_type": "raw",
   "metadata": {},
   "source": [
    "~the topic you would like to focus on:\n",
    "    Health, diet/eating habits, disease, Crime in Philadelphia\n",
    "    \n",
    "~some initial data you found that could work for your analysis\n",
    "https://wonder.cdc.gov/Welcome.html\n",
    "https://apps.who.int/gho/data/node.resources\n",
    "https://open.fda.gov/\n",
    "https://github.com/awesomedata/awesome-public-datasets#healthcare\n",
    "\n",
    "\n",
    "~initial exploratory data analysis to see if data gathered is viable\n",
    "\n",
    "~outside information that could be useful to your process (charts, articles, links that are ~relevant to your topic.\n",
    "\n",
    "~Find some initial data pertaining to your topic and store the files in the /data folder."
   ]
  },
  {
   "cell_type": "raw",
   "metadata": {},
   "source": []
  }
 ],
 "metadata": {
  "kernelspec": {
   "display_name": "Python 3",
   "language": "python",
   "name": "python3"
  },
  "language_info": {
   "codemirror_mode": {
    "name": "ipython",
    "version": 3
   },
   "file_extension": ".py",
   "mimetype": "text/x-python",
   "name": "python",
   "nbconvert_exporter": "python",
   "pygments_lexer": "ipython3",
   "version": "3.8.3"
  }
 },
 "nbformat": 4,
 "nbformat_minor": 4
}
